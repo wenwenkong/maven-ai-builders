{
 "cells": [
  {
   "cell_type": "code",
   "execution_count": 1,
   "id": "133fde2b-2ffd-4249-90c2-e64b2505c296",
   "metadata": {},
   "outputs": [],
   "source": [
    "import os\n",
    "import openai\n",
    "from IPython.display import display, Image"
   ]
  },
  {
   "cell_type": "code",
   "execution_count": 2,
   "id": "7b40cbb3-e5ac-44cb-aae3-ba26fb15723e",
   "metadata": {},
   "outputs": [],
   "source": [
    "openai.api_key = os.getenv(\"OPENAI_API_KEY\")"
   ]
  },
  {
   "cell_type": "code",
   "execution_count": 3,
   "id": "a36cd0fe-3a51-4778-a854-fbdac2d82213",
   "metadata": {},
   "outputs": [
    {
     "name": "stdout",
     "output_type": "stream",
     "text": [
      "✅ Available models:\n",
      "- gpt-4-0613\n",
      "- gpt-4\n",
      "- gpt-3.5-turbo\n",
      "- gpt-4o-audio-preview-2025-06-03\n",
      "- gpt-4.1-nano-2025-04-14\n",
      "- gpt-4.1-nano\n",
      "- gpt-image-1\n",
      "- gpt-4o-realtime-preview-2025-06-03\n",
      "- davinci-002\n",
      "- babbage-002\n",
      "- gpt-3.5-turbo-instruct\n",
      "- gpt-3.5-turbo-instruct-0914\n",
      "- dall-e-3\n",
      "- dall-e-2\n",
      "- gpt-4-1106-preview\n",
      "- gpt-3.5-turbo-1106\n",
      "- tts-1-hd\n",
      "- tts-1-1106\n",
      "- tts-1-hd-1106\n",
      "- text-embedding-3-small\n",
      "- text-embedding-3-large\n",
      "- gpt-4-0125-preview\n",
      "- gpt-4-turbo-preview\n",
      "- gpt-3.5-turbo-0125\n",
      "- gpt-4-turbo\n",
      "- gpt-4-turbo-2024-04-09\n",
      "- gpt-4o\n",
      "- gpt-4o-2024-05-13\n",
      "- gpt-4o-mini-2024-07-18\n",
      "- gpt-4o-mini\n",
      "- gpt-4o-2024-08-06\n",
      "- chatgpt-4o-latest\n",
      "- o1-preview-2024-09-12\n",
      "- o1-preview\n",
      "- o1-mini-2024-09-12\n",
      "- o1-mini\n",
      "- gpt-4o-realtime-preview-2024-10-01\n",
      "- gpt-4o-audio-preview-2024-10-01\n",
      "- gpt-4o-audio-preview\n",
      "- gpt-4o-realtime-preview\n",
      "- omni-moderation-latest\n",
      "- omni-moderation-2024-09-26\n",
      "- gpt-4o-realtime-preview-2024-12-17\n",
      "- gpt-4o-audio-preview-2024-12-17\n",
      "- gpt-4o-mini-realtime-preview-2024-12-17\n",
      "- gpt-4o-mini-audio-preview-2024-12-17\n",
      "- o1-2024-12-17\n",
      "- o1\n",
      "- gpt-4o-mini-realtime-preview\n",
      "- gpt-4o-mini-audio-preview\n",
      "- o3-mini\n",
      "- o3-mini-2025-01-31\n",
      "- gpt-4o-2024-11-20\n",
      "- gpt-4.5-preview\n",
      "- gpt-4.5-preview-2025-02-27\n",
      "- gpt-4o-search-preview-2025-03-11\n",
      "- gpt-4o-search-preview\n",
      "- gpt-4o-mini-search-preview-2025-03-11\n",
      "- gpt-4o-mini-search-preview\n",
      "- gpt-4o-transcribe\n",
      "- gpt-4o-mini-transcribe\n",
      "- o1-pro-2025-03-19\n",
      "- o1-pro\n",
      "- gpt-4o-mini-tts\n",
      "- gpt-4.1-2025-04-14\n",
      "- gpt-4.1\n",
      "- gpt-4.1-mini-2025-04-14\n",
      "- gpt-4.1-mini\n",
      "- gpt-3.5-turbo-16k\n",
      "- tts-1\n",
      "- whisper-1\n",
      "- text-embedding-ada-002\n"
     ]
    }
   ],
   "source": [
    "models = openai.models.list()\n",
    "available_models = [m.id for m in models.data]\n",
    "print(\"✅ Available models:\")\n",
    "for m in available_models:\n",
    "    print(\"-\", m)"
   ]
  },
  {
   "cell_type": "code",
   "execution_count": 4,
   "id": "1c7b2a0c-d6bd-4503-84b5-421c0e181f78",
   "metadata": {},
   "outputs": [],
   "source": [
    "img_url = \"https://upload.wikimedia.org/wikipedia/commons/thumb/f/f2/Ara-Zoo-Muenster-2013-02.jpg/960px-Ara-Zoo-Muenster-2013-02.jpg?20130512115943\""
   ]
  },
  {
   "cell_type": "code",
   "execution_count": 5,
   "id": "de0e06b2-0be0-4139-b849-512db3678297",
   "metadata": {},
   "outputs": [
    {
     "data": {
      "text/html": [
       "<img src=\"https://upload.wikimedia.org/wikipedia/commons/thumb/f/f2/Ara-Zoo-Muenster-2013-02.jpg/960px-Ara-Zoo-Muenster-2013-02.jpg?20130512115943\"/>"
      ],
      "text/plain": [
       "<IPython.core.display.Image object>"
      ]
     },
     "metadata": {},
     "output_type": "display_data"
    }
   ],
   "source": [
    "display(Image(url=img_url))"
   ]
  },
  {
   "cell_type": "code",
   "execution_count": 6,
   "id": "ef8cbca6-199c-4173-8bc3-e124b8ac3bd1",
   "metadata": {},
   "outputs": [
    {
     "name": "stdout",
     "output_type": "stream",
     "text": [
      "\n",
      "📝 GPT-4o Image Description:\n",
      "This image features a close-up of a vibrant scarlet macaw, a type of parrot known for its bright and striking plumage. The bird's head is a vivid red with a large, curved, cream-colored beak. The face features bare white skin with small feathers that have a delicate pattern of fine lines. The eye is light-colored with a dark pupil. The macaw’s body shows a mix of red, blue, and yellow feathers, typical of the species. The background is a soft-focus green, likely indicating a natural, outdoor setting.\n"
     ]
    }
   ],
   "source": [
    "response = openai.chat.completions.create(\n",
    "    model=\"gpt-4o\",\n",
    "    messages=[\n",
    "        {\n",
    "            \"role\": \"user\",\n",
    "            \"content\": [\n",
    "                {\"type\": \"text\", \"text\": \"Please describe this image in detail.\"},\n",
    "                {\n",
    "                    \"type\": \"image_url\",\n",
    "                    \"image_url\": {\n",
    "                        \"url\": img_url\n",
    "                    }\n",
    "                }\n",
    "            ],\n",
    "        }\n",
    "    ],\n",
    "    max_tokens=500\n",
    ")\n",
    "\n",
    "# Step 7: Print the result\n",
    "print(\"\\n📝 GPT-4o Image Description:\")\n",
    "print(response.choices[0].message.content)"
   ]
  }
 ],
 "metadata": {
  "kernelspec": {
   "display_name": "venv",
   "language": "python",
   "name": "venv"
  },
  "language_info": {
   "codemirror_mode": {
    "name": "ipython",
    "version": 3
   },
   "file_extension": ".py",
   "mimetype": "text/x-python",
   "name": "python",
   "nbconvert_exporter": "python",
   "pygments_lexer": "ipython3",
   "version": "3.11.5"
  }
 },
 "nbformat": 4,
 "nbformat_minor": 5
}
